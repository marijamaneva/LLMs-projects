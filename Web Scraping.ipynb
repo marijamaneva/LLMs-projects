{
 "cells": [
  {
   "cell_type": "markdown",
   "id": "dc87f67a",
   "metadata": {},
   "source": [
    "# WEB SCRAPING AND SUMMERIZATION\n",
    "\n",
    "Web Scraping and summarization of its content by using a DeepSeek API."
   ]
  },
  {
   "cell_type": "code",
   "execution_count": null,
   "id": "6ac42bc7",
   "metadata": {},
   "outputs": [],
   "source": [
    "# import libraries\n",
    "\n",
    "import os\n",
    "import requests\n",
    "from dotenv import load_dotenv\n",
    "from bs4 import BeautifulSoup  #web scraping library\n",
    "from IPython.display import Markdown, display\n",
    "from openai import OpenAI\n",
    "\n",
    "# Load environment variables in a file called .env\n",
    "\n",
    "load_dotenv(override=True)\n",
    "api_key = os.getenv('OPENROUTER_API_KEY')\n",
    "\n",
    "# Check the key\n",
    "\n",
    "if not api_key:\n",
    "    print(\"No API key was found - please head over to the troubleshooting notebook in this folder to identify & fix!\")\n",
    "elif not api_key.startswith(\"sk-proj-\"):\n",
    "    print(\"An API key was found, but it doesn't start sk-proj-; please check you're using the right key - see troubleshooting notebook\")\n",
    "elif api_key.strip() != api_key:\n",
    "    print(\"An API key was found, but it looks like it might have space or tab characters at the start or end - please remove them - see troubleshooting notebook\")\n",
    "else:\n",
    "    print(\"API key found and looks good so far!\")"
   ]
  },
  {
   "cell_type": "code",
   "execution_count": 2,
   "id": "a0c1410e-0375-42c1-8e20-44b879587a0e",
   "metadata": {},
   "outputs": [
    {
     "name": "stdout",
     "output_type": "stream",
     "text": [
      "\\boxed{The question regarding the meaning of life is a deeply philosophical and subjective one that varies based on one's cultural, religious, philosophical, and personal beliefs. Common responses include seeking personal fulfillment through relationships and passions, religious faith which often entails serving a higher power or following a path laid down by religious teachings, existentialist ideas which suggest that individuals must create their own meaning, and biological viewpoints which focus on survival and reproduction. However, there is no single, universally accepted answer that addresses what the meaning of life is for every individual.}\n"
     ]
    }
   ],
   "source": [
    "# initialization of OpenAI client\n",
    "client = OpenAI(\n",
    "  base_url=\"https://openrouter.ai/api/v1\",\n",
    "  api_key=api_key,\n",
    ")\n",
    "\n",
    "\n",
    "# making a chat completation request\n",
    "completion = client.chat.completions.create(\n",
    "  model=\"deepseek/deepseek-r1-zero:free\",\n",
    "  messages=[\n",
    "    {\n",
    "      \"role\": \"user\",\n",
    "      \"content\": \"What is the meaning of life?\"\n",
    "    }\n",
    "  ]\n",
    ")\n",
    "print(completion.choices[0].message.content)"
   ]
  },
  {
   "cell_type": "code",
   "execution_count": 4,
   "id": "e89f24ce-e8d4-49a8-8534-6e09872b6c5c",
   "metadata": {},
   "outputs": [],
   "source": [
    "# PROJECT 1 : TEXT SUMMERIZATION FROM A WEBPAGE \n",
    "\n",
    "# A class to represent a Webpage\n",
    "# If you're not familiar with Classes, check out the \"Intermediate Python\" notebook\n",
    "\n",
    "# Some websites block requests from unknown risources. The header mimics a real browser request to \n",
    "# avoid being blocked when making HTTP requests\n",
    "\n",
    "headers = {\n",
    " \"User-Agent\": \"Mozilla/5.0 (Windows NT 10.0; Win64; x64) AppleWebKit/537.36 (KHTML, like Gecko) Chrome/117.0.0.0 Safari/537.36\"\n",
    "}\n",
    "\n",
    "# the class reppresents a webpage\n",
    "class Website:\n",
    "\n",
    "    def __init__(self, url):\n",
    "        \"\"\"\n",
    "        Create this Website object from the given url using the BeautifulSoup library\n",
    "        \"\"\"\n",
    "        self.url = url\n",
    "        response = requests.get(url, headers=headers)\n",
    "        soup = BeautifulSoup(response.content, 'html.parser') # it extracts data from HTML and XML\n",
    "        self.title = soup.title.string if soup.title else \"No title found\"\n",
    "        for irrelevant in soup.body([\"script\", \"style\", \"img\", \"input\"]):\n",
    "            irrelevant.decompose()\n",
    "        self.text = soup.body.get_text(separator=\"\\n\", strip=True)"
   ]
  },
  {
   "cell_type": "code",
   "execution_count": 5,
   "id": "2611a71b-79eb-4d3a-84c1-fb4a2895f535",
   "metadata": {},
   "outputs": [
    {
     "name": "stdout",
     "output_type": "stream",
     "text": [
      "Home - Edward Donner\n",
      "Home\n",
      "Connect Four\n",
      "Outsmart\n",
      "An arena that pits LLMs against each other in a battle of diplomacy and deviousness\n",
      "About\n",
      "Posts\n",
      "Well, hi there.\n",
      "I’m Ed. I like writing code and experimenting with LLMs, and hopefully you’re here because you do too. I also enjoy DJing (but I’m badly out of practice), amateur electronic music production (\n",
      "very\n",
      "amateur) and losing myself in\n",
      "Hacker News\n",
      ", nodding my head sagely to things I only half understand.\n",
      "I’m the co-founder and CTO of\n",
      "Nebula.io\n",
      ". We’re applying AI to a field where it can make a massive, positive impact: helping people discover their potential and pursue their reason for being. Recruiters use our product today to source, understand, engage and manage talent. I’m previously the founder and CEO of AI startup untapt,\n",
      "acquired in 2021\n",
      ".\n",
      "We work with groundbreaking, proprietary LLMs verticalized for talent, we’ve\n",
      "patented\n",
      "our matching model, and our award-winning platform has happy customers and tons of press coverage.\n",
      "Connect\n",
      "with me for more!\n",
      "January 23, 2025\n",
      "LLM Workshop – Hands-on with Agents – resources\n",
      "December 21, 2024\n",
      "Welcome, SuperDataScientists!\n",
      "November 13, 2024\n",
      "Mastering AI and LLM Engineering – Resources\n",
      "October 16, 2024\n",
      "From Software Engineer to AI Data Scientist – resources\n",
      "Navigation\n",
      "Home\n",
      "Connect Four\n",
      "Outsmart\n",
      "An arena that pits LLMs against each other in a battle of diplomacy and deviousness\n",
      "About\n",
      "Posts\n",
      "Get in touch\n",
      "ed [at] edwarddonner [dot] com\n",
      "www.edwarddonner.com\n",
      "Follow me\n",
      "LinkedIn\n",
      "Twitter\n",
      "Facebook\n",
      "Subscribe to newsletter\n",
      "Type your email…\n",
      "Subscribe\n"
     ]
    }
   ],
   "source": [
    "# Let's try one out. Change the website and add print statements to follow along.\n",
    "\n",
    "ed = Website(\"https://edwarddonner.com\")\n",
    "print(ed.title)\n",
    "print(ed.text)"
   ]
  },
  {
   "cell_type": "code",
   "execution_count": 6,
   "id": "7e820b9e-efa8-46b3-b391-afcf9d31c98f",
   "metadata": {},
   "outputs": [],
   "source": [
    "# define the system prompt for the model \n",
    "\n",
    "system_prompt = \"You are an assistant that analyzes the contents of a website \\\n",
    "and provides a short summary, ignoring text that might be navigation related. \\\n",
    "Respond in markdown.\""
   ]
  },
  {
   "cell_type": "code",
   "execution_count": 7,
   "id": "8aba3f39-00a5-460e-a9ab-37d7daa8df98",
   "metadata": {},
   "outputs": [],
   "source": [
    "# A function that writes a User Prompt that asks for summaries of websites:\n",
    "# += because otherwise it will overwrite the previous text\n",
    "\n",
    "def user_prompt_for(website):\n",
    "    user_prompt = f\"You are looking at a website titled {website.title}\"\n",
    "    user_prompt += \"\\nThe contents of this website is as follows; \\\n",
    "please provide a short summary of this website in markdown. \\\n",
    "If it includes news or announcements, then summarize these too.\\n\\n\"\n",
    "    user_prompt += website.text\n",
    "    return user_prompt"
   ]
  },
  {
   "cell_type": "code",
   "execution_count": 8,
   "id": "c9b7f312-568f-4531-91ff-5021e7cdfdbf",
   "metadata": {},
   "outputs": [
    {
     "name": "stdout",
     "output_type": "stream",
     "text": [
      "You are looking at a website titled Home - Edward Donner\n",
      "The contents of this website is as follows; please provide a short summary of this website in markdown. If it includes news or announcements, then summarize these too.\n",
      "\n",
      "Home\n",
      "Connect Four\n",
      "Outsmart\n",
      "An arena that pits LLMs against each other in a battle of diplomacy and deviousness\n",
      "About\n",
      "Posts\n",
      "Well, hi there.\n",
      "I’m Ed. I like writing code and experimenting with LLMs, and hopefully you’re here because you do too. I also enjoy DJing (but I’m badly out of practice), amateur electronic music production (\n",
      "very\n",
      "amateur) and losing myself in\n",
      "Hacker News\n",
      ", nodding my head sagely to things I only half understand.\n",
      "I’m the co-founder and CTO of\n",
      "Nebula.io\n",
      ". We’re applying AI to a field where it can make a massive, positive impact: helping people discover their potential and pursue their reason for being. Recruiters use our product today to source, understand, engage and manage talent. I’m previously the founder and CEO of AI startup untapt,\n",
      "acquired in 2021\n",
      ".\n",
      "We work with groundbreaking, proprietary LLMs verticalized for talent, we’ve\n",
      "patented\n",
      "our matching model, and our award-winning platform has happy customers and tons of press coverage.\n",
      "Connect\n",
      "with me for more!\n",
      "January 23, 2025\n",
      "LLM Workshop – Hands-on with Agents – resources\n",
      "December 21, 2024\n",
      "Welcome, SuperDataScientists!\n",
      "November 13, 2024\n",
      "Mastering AI and LLM Engineering – Resources\n",
      "October 16, 2024\n",
      "From Software Engineer to AI Data Scientist – resources\n",
      "Navigation\n",
      "Home\n",
      "Connect Four\n",
      "Outsmart\n",
      "An arena that pits LLMs against each other in a battle of diplomacy and deviousness\n",
      "About\n",
      "Posts\n",
      "Get in touch\n",
      "ed [at] edwarddonner [dot] com\n",
      "www.edwarddonner.com\n",
      "Follow me\n",
      "LinkedIn\n",
      "Twitter\n",
      "Facebook\n",
      "Subscribe to newsletter\n",
      "Type your email…\n",
      "Subscribe\n"
     ]
    }
   ],
   "source": [
    "print(user_prompt_for(ed))"
   ]
  },
  {
   "cell_type": "markdown",
   "id": "2a7df39a-ca1e-473c-9c11-bd432f9389c0",
   "metadata": {},
   "source": [
    "MESSAGES\n",
    "\n",
    "The API from OpenAI expects to receive messages in a particular structure. Many of the other APIs share this structure:\n",
    "\n",
    "[\n",
    "\n",
    "    {\"role\": \"system\", \"content\": \"system message goes here\"},\n",
    "    \n",
    "    {\"role\": \"user\", \"content\": \"user message goes here\"}\n",
    "]\n",
    "\n",
    "To give you a preview, the next 2 cells make a rather simple call - we won't stretch the mighty GPT (yet!)"
   ]
  },
  {
   "cell_type": "code",
   "execution_count": 11,
   "id": "be804f4d-2c82-4713-b502-7575d6ed85e8",
   "metadata": {},
   "outputs": [],
   "source": [
    "def messages_for(website):\n",
    "    return [\n",
    "    {\"role\": \"system\", \"content\": system_prompt},\n",
    "    {\"role\": \"user\", \"content\": user_prompt_for(website)}\n",
    "    ]"
   ]
  },
  {
   "cell_type": "code",
   "execution_count": 12,
   "id": "30ff0438-50ee-4f29-bbf4-75887f5945a6",
   "metadata": {},
   "outputs": [
    {
     "data": {
      "text/plain": [
       "[{'role': 'system',\n",
       "  'content': 'You are an assistant that analyzes the contents of a website and provides a short summary, ignoring text that might be navigation related. Respond in markdown.'},\n",
       " {'role': 'user',\n",
       "  'content': 'You are looking at a website titled Home - Edward Donner\\nThe contents of this website is as follows; please provide a short summary of this website in markdown. If it includes news or announcements, then summarize these too.\\n\\nHome\\nConnect Four\\nOutsmart\\nAn arena that pits LLMs against each other in a battle of diplomacy and deviousness\\nAbout\\nPosts\\nWell, hi there.\\nI’m Ed. I like writing code and experimenting with LLMs, and hopefully you’re here because you do too. I also enjoy DJing (but I’m badly out of practice), amateur electronic music production (\\nvery\\namateur) and losing myself in\\nHacker News\\n, nodding my head sagely to things I only half understand.\\nI’m the co-founder and CTO of\\nNebula.io\\n. We’re applying AI to a field where it can make a massive, positive impact: helping people discover their potential and pursue their reason for being. Recruiters use our product today to source, understand, engage and manage talent. I’m previously the founder and CEO of AI startup untapt,\\nacquired in 2021\\n.\\nWe work with groundbreaking, proprietary LLMs verticalized for talent, we’ve\\npatented\\nour matching model, and our award-winning platform has happy customers and tons of press coverage.\\nConnect\\nwith me for more!\\nJanuary 23, 2025\\nLLM Workshop – Hands-on with Agents – resources\\nDecember 21, 2024\\nWelcome, SuperDataScientists!\\nNovember 13, 2024\\nMastering AI and LLM Engineering – Resources\\nOctober 16, 2024\\nFrom Software Engineer to AI Data Scientist – resources\\nNavigation\\nHome\\nConnect Four\\nOutsmart\\nAn arena that pits LLMs against each other in a battle of diplomacy and deviousness\\nAbout\\nPosts\\nGet in touch\\ned [at] edwarddonner [dot] com\\nwww.edwarddonner.com\\nFollow me\\nLinkedIn\\nTwitter\\nFacebook\\nSubscribe to newsletter\\nType your email…\\nSubscribe'}]"
      ]
     },
     "execution_count": 12,
     "metadata": {},
     "output_type": "execute_result"
    }
   ],
   "source": [
    "messages_for(ed)"
   ]
  },
  {
   "cell_type": "code",
   "execution_count": 15,
   "id": "ad111dc1-8d26-428c-a922-78acf60af76a",
   "metadata": {},
   "outputs": [],
   "source": [
    "# BRING EVERYTHING TOGETHER\n",
    "\n",
    "def summarize(url):\n",
    "    website = Website(url)\n",
    "    response = client.chat.completions.create(\n",
    "        model = \"deepseek/deepseek-r1-zero:free\",\n",
    "        messages = messages_for(website)\n",
    "    )\n",
    "    return response.choices[0].message.content\n"
   ]
  },
  {
   "cell_type": "code",
   "execution_count": 16,
   "id": "e65baf66-5cbb-43e6-b56d-630eab49d105",
   "metadata": {},
   "outputs": [
    {
     "data": {
      "text/plain": [
       "'\\\\boxed{\\n### Summary of Edward Donner\\'s Website\\n\\n#### Introduction\\nEdward Donner is a co-founder and CTO of Nebula.io, a company that uses AI to help people discover their potential and pursue their career goals. He previously founded and was the CEO of untapt, which was acquired in 2021. He enjoys writing code, experimenting with LLMs, DJing, and amateur electronic music production.\\n\\n#### Projects\\n- **Connect Four**: An arena where LLMs (Large Language Models) are pitted against each other in a \"battle of diplomacy and deviousness.\"\\n\\n#### Recent Posts\\n1. **LLM Workshop – Hands-on with Agents – resources** (January 23, 2025)\\n2. **Welcome, SuperDataScientists!** (December 21, 2024)\\n3. **Mastering AI and LLM Engineering – Resources** (November 13, 2024)\\n4. **From Software Engineer to AI Data Scientist – resources** (October 16, 2024)\\n\\n#### Contact Information\\n- Email: ed [at] edwarddonner [dot] com\\n- Website: www.edwarddonner.com\\n- Social Media: LinkedIn, Twitter, Facebook\\n\\n#### Newsletter Subscription\\nVisitors can subscribe to a newsletter by entering their email address in the provided form.\\n}'"
      ]
     },
     "execution_count": 16,
     "metadata": {},
     "output_type": "execute_result"
    }
   ],
   "source": [
    "summarize(\"https://edwarddonner.com\")"
   ]
  },
  {
   "cell_type": "code",
   "execution_count": 17,
   "id": "622da8a6-8494-43f8-833a-03ce94712ed2",
   "metadata": {},
   "outputs": [],
   "source": [
    "# A function to display this nicely in the Jupyter output, using markdown\n",
    "\n",
    "def display_summary(url):\n",
    "    summary = summarize(url)\n",
    "    display(Markdown(summary))"
   ]
  },
  {
   "cell_type": "code",
   "execution_count": 18,
   "id": "5dc6a8a5-10d4-4419-b49d-a2ba3fef0a36",
   "metadata": {},
   "outputs": [
    {
     "data": {
      "text/markdown": [
       "\\boxed{\n",
       "```markdown\n",
       "### Summary of \"Home - Edward Donner\"\n",
       "\n",
       "**Introduction:**\n",
       "Edward Donner is a co-founder and CTO of Nebula.io, a company that uses AI to help people discover their potential and pursue their reason for being. He previously founded and was the CEO of untapt, which was acquired in 2021. He enjoys writing code, experimenting with LLMs, DJing, and amateur electronic music production.\n",
       "\n",
       "**Projects:**\n",
       "- **Connect Four**: A project or game (details not specified on the main page).\n",
       "- **Outsmart**: An arena where LLMs compete against each other in a \"battle of diplomacy and deviousness.\"\n",
       "\n",
       "**Blog Posts:**\n",
       "1. \"LLM Workshop – Hands-on with Agents – resources\" (January 23, 2025)\n",
       "2. \"Welcome, SuperDataScientists!\" (December 21, 2024)\n",
       "3. \"Mastering AI and LLM Engineering – Resources\" (November 13, 2024)\n",
       "4. \"From Software Engineer to AI Data Scientist – resources\" (October 16, 2024)\n",
       "\n",
       "**Contact:**\n",
       "- Email: ed [at] edwarddonner [dot] com\n",
       "- Website: www.edwarddonner.com\n",
       "\n",
       "**Social Media:**\n",
       "- LinkedIn, Twitter, and Facebook links are provided.\n",
       "\n",
       "**Newsletter Subscription:**\n",
       "Visitors can subscribe to a newsletter by entering their email address.\n",
       "\n",
       "This website serves as a personal and professional profile for Edward Donner, highlighting his work, interests, and providing a way to connect with him.\n",
       "```\n",
       "}"
      ],
      "text/plain": [
       "<IPython.core.display.Markdown object>"
      ]
     },
     "metadata": {},
     "output_type": "display_data"
    }
   ],
   "source": [
    "display_summary(\"https://edwarddonner.com\")"
   ]
  },
  {
   "cell_type": "code",
   "execution_count": 19,
   "id": "d6daaa17-875d-4301-9d5e-4d0e250278c3",
   "metadata": {},
   "outputs": [
    {
     "data": {
      "text/markdown": [
       "\\boxed{\n",
       "This CNN website is a comprehensive news source covering a wide variety of topics such as US and world news, politics, business, health, entertainment, style, travel, sports, science, climate, and weather. \n",
       "\n",
       "#### Top headlines include:\n",
       "1. **Myanmar Earthquake**: Over 150 people have died and more than 730 were injured after a 7.7-magnitude earthquake hit Myanmar. Authorities have made a rare plea for help as the death toll is expected to rise. Additionally, there were visual reports capturing the collapse of a Bangkok skyscraper and pool water spilling over the edges of a highrise building during the earthquake.\n",
       "2. **Trump and Greenland**: Trump stated that the US should aim to \"have Greenland\" as US Senator JD Vance visited the island. \n",
       "3. **State Department & USAID**: The State Department has formally notified Congress that it is effectively dissolving the United States Agency for International Development (USAID).\n",
       "4. **Canada's Warning on Tariffs**: Canada has warned that it will retaliate against Trump's proposed tariffs.\n",
       "5. **Scientific Breakthrough**: Scientists have found a new possibility for how life on Earth could have started through a redone experiment.\n",
       "6. **Olympic Skier's Death**: Olympic skier Berkin Usta, 24, and his father died in a hotel fire.\n",
       "7. **Apple's Plans**: Apple intends to \"reinvigorate interest\" with an overhaul of the iPhone design.\n",
       "\n",
       "#### Features and Sections:\n",
       "- **Israel's Military Actions**: Israel strikes southern Beirut for the first time since a November ceasefire.\n",
       "- **Extremist Views in Israel**: Rising extremist views among young Jewish Israelis mirror societal divisions.\n",
       "- **Social Media Trends**: Studio Ghibli-style AI portraits are trending on social media.\n",
       "- **Panama Canal**: The sale of Panama Canal ports has been put on hold by Chinese regulators.\n",
       "- **Floods in Australia**: \"Unprecedented\" floods have left vast areas of Australia under water.\n",
       "- **Health and Wellness**: A short video features a young mom speaking out about her fentanyl addiction.\n",
       "- **Travel and Lifestyle**: There are articles about staying in a cemetery in France and an interview with a conservationist who has been in Uganda’s Bwindi Impenetrable National Park for 30 years.\n",
       "- **Gaming and Technology**: Studies suggest that one thing might reduce phone usage by half.\n",
       "\n",
       "#### Additional Stories:\n",
       "- **Fashion**: H&M plans to use AI clones of its human models.\n",
       "- **Crime Reporting**: A child’s complaint led a babysitter to discover a man hiding under the bed.\n",
       "- **Tesla Concerns**: Investors question if Musk is dedicating enough time to Tesla amidst various controversies.\n",
       "\n",
       "#### Featured Sections:\n",
       "- **Space and Science**: Articles include a newly-discovered creature preserved in 99 million-year-old amber and a study on toxic dust on Mars.\n",
       "- **Global Travel**: Highlights include a massive collection of vintage cars stored in a desert and an article on why Japan’s hot springs are running low due to overtourism.\n",
       "\n",
       "#### Extreme Weather and Disaster Information:\n",
       "Specific updates on weather events such as the floods in Australia and Myanmar’s earthquake are given prominent coverage along with advice and safety tips relevant to those events.\n",
       "\n",
       "#### Other Miscellaneous News:\n",
       "- **US Politics**: Includes details on Trump's executive orders and his plans for the deportation flight details.\n",
       "- **Health and Wellness**: Advice on maintaining sustainable health habits, the trend of hot workouts such as heated workouts and hot yoga, and why people wake up to pee at night.\n",
       "- **Sports News**: An exciting halfcourt buzzer-beater by Josh Giddey against LeBron James and Tyler O’Neill’s record-extending sixth Opening Day home run.\n",
       "- **Celebrity News Highlights**: Jeff Bezos and his fiancée planning a wedding in Venice, Megan Fox and Machine Gun Kelly welcoming a baby girl, and Will Smith making references to his Oscar slap in his new music.\n",
       "\n",
       "This CNN website offers a broad and in-depth look at current events, making it a one-stop-shop for a wide range of news topics.\n",
       "}"
      ],
      "text/plain": [
       "<IPython.core.display.Markdown object>"
      ]
     },
     "metadata": {},
     "output_type": "display_data"
    }
   ],
   "source": [
    "# LET'S TRY WITH OTHER WEBSITES\n",
    "display_summary(\"https://cnn.com\")"
   ]
  },
  {
   "cell_type": "code",
   "execution_count": 20,
   "id": "41284164-3dda-4381-b816-acb66075649d",
   "metadata": {},
   "outputs": [
    {
     "data": {
      "text/markdown": [
       "\\boxed{\n",
       "```markdown\n",
       "# Just a moment...\n",
       "\n",
       "This website requires JavaScript and cookies to be enabled in order to access its contents. The \"Just a moment...\" message typically indicates that a security check is being performed, which is common for websites that use a service like Cloudflare to protect against automated bots. Ensure that both JavaScript and cookies are enabled in your browser to proceed.\n",
       "```\n",
       "}"
      ],
      "text/plain": [
       "<IPython.core.display.Markdown object>"
      ]
     },
     "metadata": {},
     "output_type": "display_data"
    }
   ],
   "source": [
    "# Do it with Selenium\n",
    "\n",
    "display_summary(\"https://anthropic.com\")"
   ]
  }
 ],
 "metadata": {
  "kernelspec": {
   "display_name": "Python 3 (ipykernel)",
   "language": "python",
   "name": "python3"
  },
  "language_info": {
   "codemirror_mode": {
    "name": "ipython",
    "version": 3
   },
   "file_extension": ".py",
   "mimetype": "text/x-python",
   "name": "python",
   "nbconvert_exporter": "python",
   "pygments_lexer": "ipython3",
   "version": "3.11.2"
  }
 },
 "nbformat": 4,
 "nbformat_minor": 5
}
